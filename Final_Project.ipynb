{
 "cells": [
  {
   "cell_type": "markdown",
   "metadata": {},
   "source": [
    "# Group File Number: 4702"
   ]
  },
  {
   "cell_type": "markdown",
   "metadata": {},
   "source": [
    "# MetaSpades Terminal Command"
   ]
  },
  {
   "cell_type": "markdown",
   "metadata": {},
   "source": [
    "spades.py --meta -o Final_Project/SPAdes_out -1 /data/metagenomes/160523Alm_D16-4702_1_sequence.fastq.gz -2 /data/metagenomes/160523Alm_D16-4702_2_sequence.fastq.gz -t 2 -m 16 "
   ]
  },
  {
   "cell_type": "markdown",
   "metadata": {},
   "source": [
    "When we tried to run MetaSpades, we kept getting a memory error which prevented us from completing the metaspades portions. "
   ]
  },
  {
   "cell_type": "markdown",
   "metadata": {},
   "source": [
    "# One Codex Terminal Command\n",
    "onecodex login\n",
    "\n",
    "onecodex upload 160523Alm_D16-4702_1_sequence.fastq.gz\n",
    "\n",
    "onecodex upload 160523Alm_D16-4702_2_sequence.fastq.gz\n"
   ]
  },
  {
   "cell_type": "markdown",
   "metadata": {},
   "source": [
    "## Quantify the abundance of different microbes in your metagenome:\n",
    "\n",
    "We used One Codex to quantify the abundance of microbes in our metagenome. In total, about 8% of the reads were classified in the OneCodex database. Overall, we found over 150 different species with at least .01% estimated abundance in the classified reads. These classified reads span cellular organisms, Archaea, and mostly, bacteria. Among these bacteria, there are bacteria candidate phyla, proteobacteria, actinobacteria, armatimonadetes, chloroflexi, and acidobacteria. \n",
    "\n",
    "9.96 % of the classified reads corresponded to the genome of Actinomyces odontolyticus, a gram-positive bacilli that belongs to the Actinomyces genus. This bacterium has been associated with particular clinical syndroms. Actinomyces bacteria can cause actinomycosis, a long-term infection, in humans. Although infection caused by Actinomyces odontolyticus is very rare. \n",
    "\n",
    "The second most present microorganism in our sample is Armatimonadetes bacterium, its genome makes up 6.56% of the classified reads. It is a gram-negative bacteria. After being a candidate phylum described solely based on 16S RNA clones, a bacterial strain belonging to the phylum was identified in 2011.\n",
    "\n",
    "Actinobacteria bacterium makes up 6.27% of the classified reads. These are gram-positive bacteria that decompose organic matter in soil, some species of the phylum even grow symbiotically with the plants roots, fixing nitrogen for the plan in exchange for access to the plants’ saccharides.\n",
    "\n",
    "Finally, Candidatus Rokubacteria bacterium is the last organism who has a medium abundance of 5.39% of the classified reads, as it is a candidate phylum, little is known about this organism.\n",
    "\n",
    "One Codex has found over 20 other species with low to very low abundance in our sample. For example, E.coli makes up 1.79% of the classified reads.\n",
    "\n",
    "![](analysis_taxonomy.png)"
   ]
  },
  {
   "cell_type": "code",
   "execution_count": null,
   "metadata": {},
   "outputs": [],
   "source": []
  }
 ],
 "metadata": {
  "kernelspec": {
   "display_name": "Python 3",
   "language": "python",
   "name": "python3"
  },
  "language_info": {
   "codemirror_mode": {
    "name": "ipython",
    "version": 3
   },
   "file_extension": ".py",
   "mimetype": "text/x-python",
   "name": "python",
   "nbconvert_exporter": "python",
   "pygments_lexer": "ipython3",
   "version": "3.6.6"
  }
 },
 "nbformat": 4,
 "nbformat_minor": 2
}
